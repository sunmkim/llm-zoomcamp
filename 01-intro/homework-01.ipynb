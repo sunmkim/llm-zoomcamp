{
 "cells": [
  {
   "cell_type": "markdown",
   "id": "d727777d-54fb-4c7b-8ce3-c6e917e1968b",
   "metadata": {},
   "source": [
    "# Q1. Running ElasticSearch"
   ]
  },
  {
   "cell_type": "markdown",
   "id": "2eb2755e-b19d-4bbf-809e-aa9256f55d8b",
   "metadata": {},
   "source": [
    "### What's the version.build_hash value?"
   ]
  },
  {
   "cell_type": "markdown",
   "id": "526b544c-a31e-4b39-9079-88722acf8b6f",
   "metadata": {},
   "source": [
    "**Answer**"
   ]
  },
  {
   "cell_type": "code",
   "execution_count": 2,
   "id": "3195696f-3cf1-4371-9584-751f9c0fdcb2",
   "metadata": {},
   "outputs": [
    {
     "name": "stdout",
     "output_type": "stream",
     "text": [
      "{\n",
      "  \"name\" : \"6e4c5090ddd2\",\n",
      "  \"cluster_name\" : \"docker-cluster\",\n",
      "  \"cluster_uuid\" : \"o_4rzr-sRES8MgBv7E8v5Q\",\n",
      "  \"version\" : {\n",
      "    \"number\" : \"8.4.3\",\n",
      "    \"build_flavor\" : \"default\",\n",
      "    \"build_type\" : \"docker\",\n",
      "    \"build_hash\" : \"42f05b9372a9a4a470db3b52817899b99a76ee73\",\n",
      "    \"build_date\" : \"2022-10-04T07:17:24.662462378Z\",\n",
      "    \"build_snapshot\" : false,\n",
      "    \"lucene_version\" : \"9.3.0\",\n",
      "    \"minimum_wire_compatibility_version\" : \"7.17.0\",\n",
      "    \"minimum_index_compatibility_version\" : \"7.0.0\"\n",
      "  },\n",
      "  \"tagline\" : \"You Know, for Search\"\n",
      "}\n"
     ]
    }
   ],
   "source": [
    "!curl localhost:9200"
   ]
  },
  {
   "cell_type": "markdown",
   "id": "842e7056-0128-43d3-bc5a-58084d86d964",
   "metadata": {},
   "source": [
    "`build_hash` value is:\n",
    "```\n",
    "42f05b9372a9a4a470db3b52817899b99a76ee73\n",
    "```"
   ]
  },
  {
   "cell_type": "markdown",
   "id": "f7f4dcb7-15bc-4e89-b053-235c372fae3e",
   "metadata": {},
   "source": [
    "# Q2. Indexing the data"
   ]
  },
  {
   "cell_type": "code",
   "execution_count": 3,
   "id": "b1fb0d93-9e9d-49a9-b24c-30c3bf13855b",
   "metadata": {},
   "outputs": [
    {
     "name": "stdout",
     "output_type": "stream",
     "text": [
      "{'text': \"The purpose of this document is to capture frequently asked technical questions\\nThe exact day and hour of the course will be 15th Jan 2024 at 17h00. The course will start with the first  “Office Hours'' live.1\\nSubscribe to course public Google Calendar (it works from Desktop only).\\nRegister before the course starts using this link.\\nJoin the course Telegram channel with announcements.\\nDon’t forget to register in DataTalks.Club's Slack and join the channel.\", 'section': 'General course-related questions', 'question': 'Course - When will the course start?', 'course': 'data-engineering-zoomcamp'}\n"
     ]
    }
   ],
   "source": [
    "import requests \n",
    "import json\n",
    "\n",
    "documents = []\n",
    "docs_url = 'documents.json'\n",
    "\n",
    "with open(docs_url, 'rt') as f_in:\n",
    "    documents_raw = json.load(f_in)\n",
    "\n",
    "for course in documents_raw:\n",
    "    course_name = course['course']\n",
    "\n",
    "    for doc in course['documents']:\n",
    "        doc['course'] = course_name\n",
    "        documents.append(doc)\n",
    "\n",
    "print(documents[0])"
   ]
  },
  {
   "cell_type": "markdown",
   "id": "1d383fdf-426b-47ed-a99b-25c629d0ff19",
   "metadata": {},
   "source": [
    "### Index the data in the same way as was shown in the course videos. Make the course field a keyword and the rest should be text."
   ]
  },
  {
   "cell_type": "code",
   "execution_count": null,
   "id": "d941f4cc-93a3-4619-9616-d1adbc8cf14d",
   "metadata": {},
   "outputs": [],
   "source": [
    "from elasticsearch import Elasticsearch\n",
    "\n",
    "# create Elasticsearch client\n",
    "es = Elasticsearch(\"http://localhost:9200\")\n",
    "\n",
    "# create mappings with expected types\n",
    "mappings = {\n",
    "    \"properties\": {\n",
    "        \"text\": {\"type\": \"text\"},\n",
    "        \"section\": {\"type\": \"text\"},\n",
    "        \"question\": {\"type\": \"text\"},\n",
    "        \"course\": {\"type\": \"keyword\"} # make coursefield keyword\n",
    "    }\n",
    "}\n",
    "\n",
    "index_settings = {\n",
    "    \"settings\": {\n",
    "        \"number_of_shards\": 1,\n",
    "        \"number_of_replicas\": 0\n",
    "    },\n",
    "    \"mappings\": mappings\n",
    "}"
   ]
  },
  {
   "cell_type": "code",
   "execution_count": 6,
   "id": "f3643c27-a94c-4163-a7bc-dfa2228cdca7",
   "metadata": {},
   "outputs": [],
   "source": [
    "index_name = \"course-questions\"\n",
    "\n",
    "# create an index with mappings\n",
    "es.indices.create(index=index_name, body=index_settings)\n",
    "\n",
    "# index over each document\n",
    "for doc in documents:\n",
    "    es.index(index=index_name, document=doc)"
   ]
  },
  {
   "cell_type": "markdown",
   "id": "1d7a3f2f-272e-4c23-90e5-6d3d099facf5",
   "metadata": {},
   "source": [
    "### Which function do you use for adding your data to elastic?"
   ]
  },
  {
   "cell_type": "markdown",
   "id": "22aabe83-dbea-420f-b59a-35aeb9c6071c",
   "metadata": {},
   "source": [
    "**Answer**\n",
    "\n",
    "```\n",
    "index()\n",
    "```"
   ]
  },
  {
   "cell_type": "markdown",
   "id": "4c8cd8d4-6bb9-4250-86aa-b65cd841d2dd",
   "metadata": {},
   "source": [
    "# Q3. Searching"
   ]
  },
  {
   "cell_type": "code",
   "execution_count": 7,
   "id": "e1f6bfc5-afae-41e7-ab8b-d3afa8fea761",
   "metadata": {},
   "outputs": [],
   "source": [
    "query = \"How do I execute a command in a running docker container?\""
   ]
  },
  {
   "cell_type": "code",
   "execution_count": 9,
   "id": "0860316e-d7a4-4d6b-a811-1aa99b280afd",
   "metadata": {},
   "outputs": [],
   "source": [
    "search_query = {\n",
    "    \"size\": 5,\n",
    "    \"query\": {\n",
    "        \"bool\": {\n",
    "            \"must\": {\n",
    "                \"multi_match\": {\n",
    "                    \"query\": query,\n",
    "                    \"fields\": [\"question^4\", \"text\"], # Use only question and text fields, with a boost of 4 to question\n",
    "                    \"type\": \"best_fields\"\n",
    "                }\n",
    "            }\n",
    "        }\n",
    "    }\n",
    "}"
   ]
  },
  {
   "cell_type": "code",
   "execution_count": 10,
   "id": "8acf5974-bcb6-49a9-a3e8-c6515571346e",
   "metadata": {},
   "outputs": [],
   "source": [
    "results = es.search(\n",
    "    index=index_name,\n",
    "    body=search_query    \n",
    ")"
   ]
  },
  {
   "cell_type": "markdown",
   "id": "933b3fd7-0c70-4024-976a-dae4feed8c7b",
   "metadata": {},
   "source": [
    "### What's the score for the top ranking result?"
   ]
  },
  {
   "cell_type": "markdown",
   "id": "3de738f9-85fc-4f9a-b7a6-88de2e0f4dd7",
   "metadata": {},
   "source": [
    "**Answer**"
   ]
  },
  {
   "cell_type": "code",
   "execution_count": 16,
   "id": "cbe47961-3d2b-483f-bdc2-093eb9295dc9",
   "metadata": {},
   "outputs": [
    {
     "data": {
      "text/plain": [
       "84.050095"
      ]
     },
     "execution_count": 16,
     "metadata": {},
     "output_type": "execute_result"
    }
   ],
   "source": [
    "top_result = results['hits']['hits'][0]\n",
    "top_result['_score']"
   ]
  },
  {
   "cell_type": "markdown",
   "id": "f12a4fd6-2162-4575-a327-c2ffc8f4bb0f",
   "metadata": {},
   "source": [
    "# Q4. Filtering"
   ]
  },
  {
   "cell_type": "markdown",
   "id": "2aadc9af-4423-4eeb-b7d6-a4381d5b36b3",
   "metadata": {},
   "source": [
    "Now let's only limit the questions to `machine-learning-zoomcamp`."
   ]
  },
  {
   "cell_type": "markdown",
   "id": "99e27727-daa3-4169-af78-51b85db73c75",
   "metadata": {},
   "source": [
    "### Return 3 results. What's the 3rd question returned by the search engine?"
   ]
  },
  {
   "cell_type": "code",
   "execution_count": 22,
   "id": "8d91510d-73fd-48bc-84d4-45a4866460a5",
   "metadata": {},
   "outputs": [],
   "source": [
    "search_query = {\n",
    "        \"size\": 3, # return 3 results\n",
    "        \"query\": {\n",
    "            \"bool\": {\n",
    "                \"must\": {\n",
    "                    \"multi_match\": {\n",
    "                        \"query\": query,\n",
    "                        \"fields\": [\"question^4\", \"text\"],\n",
    "                        \"type\": \"best_fields\"\n",
    "                    }\n",
    "                },\n",
    "                \"filter\": {\n",
    "                    \"term\": {\n",
    "                        \"course\": \"machine-learning-zoomcamp\" # filter on ml-zoomcamp\n",
    "                    }\n",
    "                }\n",
    "            }\n",
    "        }\n",
    "    }"
   ]
  },
  {
   "cell_type": "markdown",
   "id": "5ad23225-3be1-4731-959a-ea9a3d65610e",
   "metadata": {},
   "source": [
    "**Answer**"
   ]
  },
  {
   "cell_type": "code",
   "execution_count": 25,
   "id": "49f8200c-1b58-40b2-bdc1-8c64f312e387",
   "metadata": {},
   "outputs": [
    {
     "data": {
      "text/plain": [
       "'How do I copy files from a different folder into docker container’s working directory?'"
      ]
     },
     "execution_count": 25,
     "metadata": {},
     "output_type": "execute_result"
    }
   ],
   "source": [
    "results = es.search(\n",
    "    index=index_name,\n",
    "    body=search_query    \n",
    ")\n",
    "third_result = results['hits']['hits'][2]\n",
    "third_result['_source']['question']"
   ]
  },
  {
   "cell_type": "markdown",
   "id": "a78278bf-e786-4461-a74a-b8afbe0974d9",
   "metadata": {},
   "source": [
    "# Q5. Building a prompt"
   ]
  },
  {
   "cell_type": "markdown",
   "id": "b359a7c1-e94c-434d-b691-8abf8cfb425d",
   "metadata": {},
   "source": [
    "Take the records returned from Elasticsearch in Q4 and use this template to build the context."
   ]
  },
  {
   "cell_type": "code",
   "execution_count": 37,
   "id": "f3536085-003f-42ec-8211-01b6f2c7ff33",
   "metadata": {},
   "outputs": [],
   "source": [
    "context_template = \"\"\"\n",
    "Q: {question}\n",
    "A: {text}\n",
    "\"\"\".strip()"
   ]
  },
  {
   "cell_type": "code",
   "execution_count": 40,
   "id": "f1aa706f-cbb3-4f6b-a975-037238462ecb",
   "metadata": {},
   "outputs": [],
   "source": [
    "context = \"\"\n",
    "\n",
    "for result in results['hits']['hits']:\n",
    "    context += context_template.format(\n",
    "        question=result['_source'][\"question\"], \n",
    "        text=result['_source'][\"text\"]\n",
    "    ).strip() + \"\\n\\n\""
   ]
  },
  {
   "cell_type": "code",
   "execution_count": 41,
   "id": "8fd24ba5-734a-401b-be47-9e9d0e48a80c",
   "metadata": {},
   "outputs": [
    {
     "data": {
      "text/plain": [
       "'Q: How do I debug a docker container?\\nA: Launch the container image in interactive mode and overriding the entrypoint, so that it starts a bash command.\\ndocker run -it --entrypoint bash <image>\\nIf the container is already running, execute a command in the specific container:\\ndocker ps (find the container-id)\\ndocker exec -it <container-id> bash\\n(Marcos MJD)\\n\\nQ: How do I copy files from my local machine to docker container?\\nA: You can copy files from your local machine into a Docker container using the docker cp command. Here\\'s how to do it:\\nTo copy a file or directory from your local machine into a running Docker container, you can use the `docker cp command`. The basic syntax is as follows:\\ndocker cp /path/to/local/file_or_directory container_id:/path/in/container\\nHrithik Kumar Advani\\n\\nQ: How do I copy files from a different folder into docker container’s working directory?\\nA: You can copy files from your local machine into a Docker container using the docker cp command. Here\\'s how to do it:\\nIn the Dockerfile, you can provide the folder containing the files that you want to copy over. The basic syntax is as follows:\\nCOPY [\"src/predict.py\", \"models/xgb_model.bin\", \"./\"]\\t\\t\\t\\t\\t\\t\\t\\t\\t\\t\\tGopakumar Gopinathan\\n\\n'"
      ]
     },
     "execution_count": 41,
     "metadata": {},
     "output_type": "execute_result"
    }
   ],
   "source": [
    "context"
   ]
  },
  {
   "cell_type": "code",
   "execution_count": 42,
   "id": "97cdd69a-3f5a-402a-9509-b9f0436aed47",
   "metadata": {},
   "outputs": [],
   "source": [
    "prompt_template = \"\"\"\n",
    "You're a course teaching assistant. Answer the QUESTION based on the CONTEXT from the FAQ database.\n",
    "Use only the facts from the CONTEXT when answering the QUESTION.\n",
    "\n",
    "QUESTION: {question}\n",
    "\n",
    "CONTEXT:\n",
    "{context}\n",
    "\"\"\".strip()\n",
    "\n",
    "prompt = prompt_template.format(question=query, context=context).strip()"
   ]
  },
  {
   "cell_type": "code",
   "execution_count": 43,
   "id": "62ba1514-0908-489e-9afa-e34bf3760ac9",
   "metadata": {},
   "outputs": [
    {
     "data": {
      "text/plain": [
       "'You\\'re a course teaching assistant. Answer the QUESTION based on the CONTEXT from the FAQ database.\\nUse only the facts from the CONTEXT when answering the QUESTION.\\n\\nQUESTION: How do I execute a command in a running docker container?\\n\\nCONTEXT:\\nQ: How do I debug a docker container?\\nA: Launch the container image in interactive mode and overriding the entrypoint, so that it starts a bash command.\\ndocker run -it --entrypoint bash <image>\\nIf the container is already running, execute a command in the specific container:\\ndocker ps (find the container-id)\\ndocker exec -it <container-id> bash\\n(Marcos MJD)\\n\\nQ: How do I copy files from my local machine to docker container?\\nA: You can copy files from your local machine into a Docker container using the docker cp command. Here\\'s how to do it:\\nTo copy a file or directory from your local machine into a running Docker container, you can use the `docker cp command`. The basic syntax is as follows:\\ndocker cp /path/to/local/file_or_directory container_id:/path/in/container\\nHrithik Kumar Advani\\n\\nQ: How do I copy files from a different folder into docker container’s working directory?\\nA: You can copy files from your local machine into a Docker container using the docker cp command. Here\\'s how to do it:\\nIn the Dockerfile, you can provide the folder containing the files that you want to copy over. The basic syntax is as follows:\\nCOPY [\"src/predict.py\", \"models/xgb_model.bin\", \"./\"]\\t\\t\\t\\t\\t\\t\\t\\t\\t\\t\\tGopakumar Gopinathan'"
      ]
     },
     "execution_count": 43,
     "metadata": {},
     "output_type": "execute_result"
    }
   ],
   "source": [
    "prompt"
   ]
  },
  {
   "cell_type": "markdown",
   "id": "d8c80cfa-bee0-48e3-9679-8e6553617a09",
   "metadata": {},
   "source": [
    "### What's the length of the resulting prompt? (use the len function)"
   ]
  },
  {
   "cell_type": "markdown",
   "id": "8c6d76c7-6951-4b2b-b292-80fd911c27f6",
   "metadata": {},
   "source": [
    "**Answer**"
   ]
  },
  {
   "cell_type": "code",
   "execution_count": 44,
   "id": "942f3199-9ddd-4be1-9d9e-f85ca485fb0b",
   "metadata": {},
   "outputs": [
    {
     "data": {
      "text/plain": [
       "1462"
      ]
     },
     "execution_count": 44,
     "metadata": {},
     "output_type": "execute_result"
    }
   ],
   "source": [
    "len(prompt)"
   ]
  },
  {
   "cell_type": "markdown",
   "id": "0c1b99ef-d15d-4e49-baf2-2c98add9df81",
   "metadata": {},
   "source": [
    "# Q6. Tokens"
   ]
  },
  {
   "cell_type": "code",
   "execution_count": 45,
   "id": "00500102-9715-4b13-8e04-88c0fd7f63b1",
   "metadata": {},
   "outputs": [
    {
     "name": "stdout",
     "output_type": "stream",
     "text": [
      "Collecting tiktoken\n",
      "  Downloading tiktoken-0.9.0-cp312-cp312-manylinux_2_17_x86_64.manylinux2014_x86_64.whl.metadata (6.7 kB)\n",
      "Collecting regex>=2022.1.18 (from tiktoken)\n",
      "  Downloading regex-2024.11.6-cp312-cp312-manylinux_2_17_x86_64.manylinux2014_x86_64.whl.metadata (40 kB)\n",
      "Requirement already satisfied: requests>=2.26.0 in /home/codespace/.local/lib/python3.12/site-packages (from tiktoken) (2.32.3)\n",
      "Requirement already satisfied: charset-normalizer<4,>=2 in /home/codespace/.local/lib/python3.12/site-packages (from requests>=2.26.0->tiktoken) (3.4.1)\n",
      "Requirement already satisfied: idna<4,>=2.5 in /home/codespace/.local/lib/python3.12/site-packages (from requests>=2.26.0->tiktoken) (3.10)\n",
      "Requirement already satisfied: urllib3<3,>=1.21.1 in /home/codespace/.local/lib/python3.12/site-packages (from requests>=2.26.0->tiktoken) (2.3.0)\n",
      "Requirement already satisfied: certifi>=2017.4.17 in /home/codespace/.local/lib/python3.12/site-packages (from requests>=2.26.0->tiktoken) (2025.1.31)\n",
      "Downloading tiktoken-0.9.0-cp312-cp312-manylinux_2_17_x86_64.manylinux2014_x86_64.whl (1.2 MB)\n",
      "\u001b[2K   \u001b[38;2;114;156;31m━━━━━━━━━━━━━━━━━━━━━━━━━━━━━━━━━━━━━━━━\u001b[0m \u001b[32m1.2/1.2 MB\u001b[0m \u001b[31m41.3 MB/s\u001b[0m eta \u001b[36m0:00:00\u001b[0m\n",
      "\u001b[?25hDownloading regex-2024.11.6-cp312-cp312-manylinux_2_17_x86_64.manylinux2014_x86_64.whl (796 kB)\n",
      "\u001b[2K   \u001b[38;2;114;156;31m━━━━━━━━━━━━━━━━━━━━━━━━━━━━━━━━━━━━━━━━\u001b[0m \u001b[32m796.9/796.9 kB\u001b[0m \u001b[31m37.0 MB/s\u001b[0m eta \u001b[36m0:00:00\u001b[0m\n",
      "\u001b[?25hInstalling collected packages: regex, tiktoken\n",
      "Successfully installed regex-2024.11.6 tiktoken-0.9.0\n"
     ]
    }
   ],
   "source": [
    "!pip install tiktoken"
   ]
  },
  {
   "cell_type": "code",
   "execution_count": 47,
   "id": "285a237b-e405-43db-a52f-1190c1f75f42",
   "metadata": {},
   "outputs": [],
   "source": [
    "import tiktoken\n",
    "\n",
    "encoding = tiktoken.encoding_for_model(\"gpt-4o\")"
   ]
  },
  {
   "cell_type": "markdown",
   "id": "6ce5a8f3-0dd1-48f8-ad73-3dfc4cb53192",
   "metadata": {},
   "source": [
    "### Use the encode function. How many tokens does our prompt have?"
   ]
  },
  {
   "cell_type": "markdown",
   "id": "74f609dd-2f65-47c2-849e-55a020971ef5",
   "metadata": {},
   "source": [
    "**Answer**"
   ]
  },
  {
   "cell_type": "code",
   "execution_count": 49,
   "id": "3e31276e-3592-45ca-ad6c-8ff61d268e33",
   "metadata": {},
   "outputs": [
    {
     "data": {
      "text/plain": [
       "322"
      ]
     },
     "execution_count": 49,
     "metadata": {},
     "output_type": "execute_result"
    }
   ],
   "source": [
    "len(encoding.encode(prompt))"
   ]
  },
  {
   "cell_type": "markdown",
   "id": "9188b52b-4c67-4081-aae9-42d8eb9c6897",
   "metadata": {},
   "source": [
    "# Q7. Using OpenAI"
   ]
  },
  {
   "cell_type": "code",
   "execution_count": 53,
   "id": "89708a69-0dd8-4a3a-ba9a-ff58b3177af1",
   "metadata": {},
   "outputs": [],
   "source": [
    "import os \n",
    "os.environ[\"OPENAI_API_KEY\"] = \"<my-super-secret-key>\""
   ]
  },
  {
   "cell_type": "code",
   "execution_count": 54,
   "id": "1bcc0bec-49f7-492d-bbae-8fc6f4a56b52",
   "metadata": {},
   "outputs": [],
   "source": [
    "from openai import OpenAI\n",
    "\n",
    "client = OpenAI(api_key=os.getenv(\"OPENAI_API_KEY\"))\n",
    "\n",
    "response = client.chat.completions.create(\n",
    "    model='gpt-4o',\n",
    "    messages=[{\"role\": \"user\", \"content\": prompt}]\n",
    ")"
   ]
  },
  {
   "cell_type": "code",
   "execution_count": 55,
   "id": "dab93d63-e040-48df-b398-67fa974da4f9",
   "metadata": {},
   "outputs": [
    {
     "data": {
      "text/plain": [
       "ChatCompletion(id='chatcmpl-BGaK5k1cFJFtiiquGbE1qN0oKYJLH', choices=[Choice(finish_reason='stop', index=0, logprobs=None, message=ChatCompletionMessage(content='To execute a command in a running Docker container, use the `docker exec` command. First, find the container ID by using `docker ps`. Then, execute the command in the specific container with the following syntax:\\n\\n```\\ndocker exec -it <container-id> command\\n```\\n\\nFor example, to start a bash session inside the container, use:\\n\\n```\\ndocker exec -it <container-id> bash\\n```', refusal=None, role='assistant', annotations=[], audio=None, function_call=None, tool_calls=None))], created=1743292573, model='gpt-4o-2024-08-06', object='chat.completion', service_tier='default', system_fingerprint='fp_6dd05565ef', usage=CompletionUsage(completion_tokens=86, prompt_tokens=329, total_tokens=415, completion_tokens_details=CompletionTokensDetails(accepted_prediction_tokens=0, audio_tokens=0, reasoning_tokens=0, rejected_prediction_tokens=0), prompt_tokens_details=PromptTokensDetails(audio_tokens=0, cached_tokens=0)))"
      ]
     },
     "execution_count": 55,
     "metadata": {},
     "output_type": "execute_result"
    }
   ],
   "source": [
    "response"
   ]
  },
  {
   "cell_type": "code",
   "execution_count": null,
   "id": "f27c26b7-8277-4f5d-bdd9-f6f608bb47de",
   "metadata": {},
   "outputs": [],
   "source": []
  }
 ],
 "metadata": {
  "kernelspec": {
   "display_name": "Python 3 (ipykernel)",
   "language": "python",
   "name": "python3"
  },
  "language_info": {
   "codemirror_mode": {
    "name": "ipython",
    "version": 3
   },
   "file_extension": ".py",
   "mimetype": "text/x-python",
   "name": "python",
   "nbconvert_exporter": "python",
   "pygments_lexer": "ipython3",
   "version": "3.12.1"
  }
 },
 "nbformat": 4,
 "nbformat_minor": 5
}
